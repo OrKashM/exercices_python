{
 "cells": [
  {
   "cell_type": "markdown",
   "id": "7ddaaf76",
   "metadata": {},
   "source": [
    "Analyser du HTML pour trouver les \"top-level readable nodes\".\n",
    "\n",
    "Obtenir la hauteur de la première ligne d’un paragraphe (dans le DOM).\n",
    "\n",
    "On va rester au plus proche du HTML pur, donc probablement avec Python (sans librairie externe) pour la première tâche, et du JavaScript pour la seconde (car seule une exécution dans un navigateur permet de calculer le line-height ou offsetHeight)."
   ]
  },
  {
   "cell_type": "markdown",
   "id": "387ce5dc",
   "metadata": {},
   "source": [
    "✅ 1. Python : Trouver les \"Top-Level Readable Nodes\" dans du HTML\n",
    "Un \"top-level readable node\" peut être défini comme un nœud de type texte significatif (non vide) ou un élément contenant du texte lisible (ex. : <p>, <div>, <article>, etc.), qui n’est pas imbriqué dans un autre parent lisible."
   ]
  },
  {
   "cell_type": "code",
   "execution_count": null,
   "id": "cf9f1593",
   "metadata": {},
   "outputs": [],
   "source": [
    "from html.parser import HTMLParser\n",
    "\n",
    "class ReadableHTMLParser(HTMLParser):\n",
    "    def __init__(self):\n",
    "        super().__init__()\n",
    "        self.readable_tags = {'p', 'div', 'article', 'section', 'main', 'span'}\n",
    "        self.stack = []\n",
    "        self.top_readable_nodes = []\n",
    "\n",
    "    def handle_starttag(self, tag, attrs):\n",
    "        self.stack.append({'tag': tag, 'text': '', 'children': []})\n",
    "\n",
    "    def handle_endtag(self, tag):\n",
    "        if not self.stack:\n",
    "            return\n",
    "\n",
    "        node = self.stack.pop()\n",
    "        if node['tag'] == tag:\n",
    "            text = node['text'].strip()\n",
    "            if tag in self.readable_tags and text:\n",
    "                if self.stack:\n",
    "                    self.stack[-1]['children'].append(node)\n",
    "                else:\n",
    "                    self.top_readable_nodes.append(node)\n",
    "\n",
    "    def handle_data(self, data):\n",
    "        if self.stack:\n",
    "            self.stack[-1]['text'] += data\n",
    "\n",
    "# Exemple d'utilisation\n",
    "html = \"\"\"\n",
    "<html>\n",
    "  <body>\n",
    "    <div>\n",
    "      <p>Bonjour le monde</p>\n",
    "    </div>\n",
    "    <section>Juste un test</section>\n",
    "    <footer>Pas important</footer>\n",
    "  </body>\n",
    "</html>\n",
    "\"\"\"\n",
    "\n",
    "parser = ReadableHTMLParser()\n",
    "parser.feed(html)\n",
    "\n",
    "for node in parser.top_readable_nodes:\n",
    "    print(f\"[{node['tag']}] → {node['text']}\")\n"
   ]
  }
 ],
 "metadata": {
  "language_info": {
   "name": "python"
  }
 },
 "nbformat": 4,
 "nbformat_minor": 5
}
